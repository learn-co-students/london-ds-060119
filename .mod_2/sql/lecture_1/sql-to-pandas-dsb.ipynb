{
 "cells": [
  {
   "cell_type": "markdown",
   "metadata": {
    "slideshow": {
     "slide_type": "slide"
    }
   },
   "source": [
    "![sql](img/sql-logo.jpg)\n",
    "\n",
    "# A beginner's guide to databases, SQL, & using them with `pandas`"
   ]
  },
  {
   "cell_type": "markdown",
   "metadata": {
    "slideshow": {
     "slide_type": "slide"
    }
   },
   "source": [
    "**Scenario:** You are a data analyst for the Homeland Security, trying to create reports on the active airports world wide. The data you need to access is in a SQL database. YOu need to be able to query for the data in a database!"
   ]
  },
  {
   "cell_type": "markdown",
   "metadata": {
    "slideshow": {
     "slide_type": "slide"
    }
   },
   "source": [
    "## Goal 1: Summarize\n",
    "\n",
    "[Netflix has a great article](https://medium.com/netflix-techblog/notebook-innovation-591ee3221233) describing three different data roles at their company, their different needs, and their toolsets.\n",
    "\n",
    "![netflix](img/netflix-data-roles.jpeg)\n",
    "\n",
    "Examining that graphic, SQL shows up as one of the tools of the _Data Engineer_ "
   ]
  },
  {
   "cell_type": "markdown",
   "metadata": {
    "slideshow": {
     "slide_type": "slide"
    }
   },
   "source": [
    "Data Engineers provide the essential data architecture services that make data science possible.\n",
    "\n",
    "![hierarchy](img/ai-hierachy.png)\n",
    "\n",
    "[Source: Monica Rogati’s fantastic Medium post “The AI Hierarchy of Needs”\n",
    "](https://hackernoon.com/the-ai-hierarchy-of-needs-18f111fcc007)"
   ]
  },
  {
   "cell_type": "markdown",
   "metadata": {
    "slideshow": {
     "slide_type": "slide"
    }
   },
   "source": [
    "![etl](img/etl.png)\n",
    "\n",
    "[img source: Jeff Hammerbacher’s slide from UC Berkeley CS 194 course ](https://bcourses.berkeley.edu/courses/1377158/pages/cs-194-16-introduction-to-data-science-fall-2015)"
   ]
  },
  {
   "cell_type": "markdown",
   "metadata": {
    "slideshow": {
     "slide_type": "slide"
    }
   },
   "source": [
    "### What is a Relational Database? \n",
    "\n",
    "![rdb](img/relational-dbms-model.png)\n",
    "[reference for image ](https://www.studytonight.com/dbms/database-model.php)"
   ]
  },
  {
   "cell_type": "markdown",
   "metadata": {
    "slideshow": {
     "slide_type": "slide"
    }
   },
   "source": [
    "### POPULAR RDBMS\n",
    "\n",
    "- SQLite\n",
    "- MySQL\n",
    "- PostgreSql\n",
    "- Oracle DB\n",
    "- SQL Server"
   ]
  },
  {
   "cell_type": "markdown",
   "metadata": {
    "slideshow": {
     "slide_type": "slide"
    }
   },
   "source": [
    "***\n",
    "## Goal 2: Database terminology\n",
    "\n",
    "### Relational Database Schema\n",
    "\n",
    "![schema](img/MySQL_Schema_Music_Example.png)\n",
    "\n",
    "[source of image](https://database.guide/what-is-a-database-schema/)\n",
    "\n",
    "\n",
    "[Leyend for the lines](https://www.conceptdraw.com/How-To-Guide/erd-entity-relationship-diagram-symbols)"
   ]
  },
  {
   "cell_type": "markdown",
   "metadata": {
    "slideshow": {
     "slide_type": "slide"
    }
   },
   "source": [
    "### Table columns view\n",
    "![table example](img/columns.png)"
   ]
  },
  {
   "cell_type": "markdown",
   "metadata": {
    "slideshow": {
     "slide_type": "slide"
    }
   },
   "source": [
    "### Terminology\n",
    "\n",
    "- Schema\n",
    "- Primary Key\n",
    "- Foreign Key\n",
    "- Structured queries\n",
    "- Views"
   ]
  },
  {
   "cell_type": "markdown",
   "metadata": {
    "slideshow": {
     "slide_type": "slide"
    }
   },
   "source": [
    "***\n",
    "### SQLite\n",
    "\n",
    "![sqlite](img/SQLite-Python.jpg)\n",
    "\n",
    "\"SQLite is a C library that provides a lightweight disk-based database that doesn’t require a separate server process and allows accessing the database using a nonstandard variant of the SQL query language. Some applications can use SQLite for internal data storage. It’s also possible to prototype an application using SQLite and then port the code to a larger database such as PostgreSQL or Oracle.\" - [sqlite documentation](https://docs.python.org/2/library/sqlite3.html)\n",
    "\n"
   ]
  },
  {
   "cell_type": "markdown",
   "metadata": {
    "slideshow": {
     "slide_type": "slide"
    }
   },
   "source": [
    "## But what about connecting to database servers?\n",
    "\n",
    "To connect to an Oracle database server there is a different package, `cx_Oracle`. The documentation for that package is [here](https://oracle.github.io/python-cx_Oracle/)"
   ]
  },
  {
   "cell_type": "markdown",
   "metadata": {
    "slideshow": {
     "slide_type": "slide"
    }
   },
   "source": [
    "***\n",
    "## Anatomy of a SQL query"
   ]
  },
  {
   "cell_type": "markdown",
   "metadata": {
    "slideshow": {
     "slide_type": "slide"
    }
   },
   "source": [
    "### Construct SQL queries"
   ]
  },
  {
   "cell_type": "markdown",
   "metadata": {
    "slideshow": {
     "slide_type": "fragment"
    }
   },
   "source": [
    "**Select**"
   ]
  },
  {
   "cell_type": "markdown",
   "metadata": {
    "slideshow": {
     "slide_type": "fragment"
    }
   },
   "source": [
    "**From**"
   ]
  },
  {
   "cell_type": "markdown",
   "metadata": {
    "slideshow": {
     "slide_type": "fragment"
    }
   },
   "source": [
    "**Where**"
   ]
  },
  {
   "cell_type": "markdown",
   "metadata": {
    "slideshow": {
     "slide_type": "fragment"
    }
   },
   "source": [
    "**Order by**"
   ]
  },
  {
   "cell_type": "markdown",
   "metadata": {
    "slideshow": {
     "slide_type": "fragment"
    }
   },
   "source": [
    "**Limit**"
   ]
  },
  {
   "cell_type": "markdown",
   "metadata": {
    "slideshow": {
     "slide_type": "slide"
    }
   },
   "source": [
    "#### Options for each:"
   ]
  },
  {
   "cell_type": "markdown",
   "metadata": {
    "slideshow": {
     "slide_type": "fragment"
    }
   },
   "source": [
    "**Select**:  `distinct`, using `as` to rename columns, single number aggregates"
   ]
  },
  {
   "cell_type": "markdown",
   "metadata": {
    "slideshow": {
     "slide_type": "fragment"
    }
   },
   "source": [
    "**From:** also uses aliasing with `as`"
   ]
  },
  {
   "cell_type": "markdown",
   "metadata": {
    "slideshow": {
     "slide_type": "fragment"
    }
   },
   "source": [
    "**Where**: equals is only one `=`, `between`, `in`, wildcards `%`, `AND`, `OR`, `NOT`"
   ]
  },
  {
   "cell_type": "markdown",
   "metadata": {
    "slideshow": {
     "slide_type": "fragment"
    }
   },
   "source": [
    "**Order by**: `asc` and `desc`"
   ]
  },
  {
   "cell_type": "markdown",
   "metadata": {
    "slideshow": {
     "slide_type": "fragment"
    }
   },
   "source": [
    "**Limit**:  #"
   ]
  },
  {
   "cell_type": "markdown",
   "metadata": {
    "slideshow": {
     "slide_type": "slide"
    }
   },
   "source": [
    "***\n",
    "## Goal 3: Three ways to SQL queries in Data Science"
   ]
  },
  {
   "cell_type": "code",
   "execution_count": 7,
   "metadata": {
    "slideshow": {
     "slide_type": "fragment"
    }
   },
   "outputs": [],
   "source": [
    "import sqlite3"
   ]
  },
  {
   "cell_type": "markdown",
   "metadata": {
    "slideshow": {
     "slide_type": "slide"
    }
   },
   "source": [
    "### Step1\n",
    "#### Load a DB object with `connect` and `cursor` \n",
    "(only once per DB and session)"
   ]
  },
  {
   "cell_type": "code",
   "execution_count": 8,
   "metadata": {
    "slideshow": {
     "slide_type": "fragment"
    }
   },
   "outputs": [],
   "source": [
    "con = sqlite3.connect('flights.db')\n",
    "cursor = con.cursor()"
   ]
  },
  {
   "cell_type": "markdown",
   "metadata": {
    "slideshow": {
     "slide_type": "slide"
    }
   },
   "source": [
    "### Step 2\n",
    "#### Prepare your query"
   ]
  },
  {
   "cell_type": "code",
   "execution_count": 9,
   "metadata": {},
   "outputs": [],
   "source": [
    "query = \"\"\"SELECT name\n",
    "           FROM sqlite_master\n",
    "           WHERE type='table'\"\"\""
   ]
  },
  {
   "cell_type": "markdown",
   "metadata": {
    "slideshow": {
     "slide_type": "slide"
    }
   },
   "source": [
    "### Step 3\n",
    "`execute`<br>\n",
    "Each time you use it, you reset the value of cursor"
   ]
  },
  {
   "cell_type": "code",
   "execution_count": 10,
   "metadata": {},
   "outputs": [
    {
     "data": {
      "text/plain": [
       "<sqlite3.Cursor at 0x106107ea0>"
      ]
     },
     "execution_count": 10,
     "metadata": {},
     "output_type": "execute_result"
    }
   ],
   "source": [
    "cursor.execute(query)"
   ]
  },
  {
   "cell_type": "markdown",
   "metadata": {
    "slideshow": {
     "slide_type": "slide"
    }
   },
   "source": [
    "### Step 4\n",
    "#### Making fetch happen\n",
    "\n",
    "`.fetchall()` is how you get the query results out of the object.\n",
    "\n",
    "You can also `.fetchone()` or `.fetchmany()`"
   ]
  },
  {
   "cell_type": "code",
   "execution_count": 12,
   "metadata": {},
   "outputs": [
    {
     "name": "stdout",
     "output_type": "stream",
     "text": [
      "[]\n"
     ]
    }
   ],
   "source": [
    "print(cursor.fetchall())"
   ]
  },
  {
   "cell_type": "markdown",
   "metadata": {},
   "source": [
    "### All together now!"
   ]
  },
  {
   "cell_type": "code",
   "execution_count": 13,
   "metadata": {},
   "outputs": [
    {
     "name": "stdout",
     "output_type": "stream",
     "text": [
      "('airports',)\n",
      "('airlines',)\n",
      "('routes',)\n"
     ]
    }
   ],
   "source": [
    "query = \"\"\"SELECT name\n",
    "           FROM sqlite_master\n",
    "           WHERE type='table'\"\"\"\n",
    "cursor.execute(query)\n",
    "data = cursor.fetchall()\n",
    "print(*data,sep=\"\\n\")"
   ]
  },
  {
   "cell_type": "markdown",
   "metadata": {},
   "source": [
    "### Same process for querying one table"
   ]
  },
  {
   "cell_type": "code",
   "execution_count": 14,
   "metadata": {},
   "outputs": [
    {
     "name": "stdout",
     "output_type": "stream",
     "text": [
      "(0, '1', 'Goroka', 'Goroka', 'Papua New Guinea', 'GKA', 'AYGA', '-6.081689', '145.391881', '5282', '10', 'U', 'Pacific/Port_Moresby')\n",
      "(1, '2', 'Madang', 'Madang', 'Papua New Guinea', 'MAG', 'AYMD', '-5.207083', '145.7887', '20', '10', 'U', 'Pacific/Port_Moresby')\n"
     ]
    }
   ],
   "source": [
    "query = \"\"\"SELECT *\n",
    "           FROM airports as a\"\"\"\n",
    "cursor.execute(query)\n",
    "data = cursor.fetchmany(2)\n",
    "print(*data,sep=\"\\n\")"
   ]
  },
  {
   "cell_type": "markdown",
   "metadata": {
    "slideshow": {
     "slide_type": "slide"
    }
   },
   "source": [
    "#### Use description"
   ]
  },
  {
   "cell_type": "code",
   "execution_count": 15,
   "metadata": {
    "slideshow": {
     "slide_type": "fragment"
    }
   },
   "outputs": [
    {
     "data": {
      "text/plain": [
       "(('index', None, None, None, None, None, None),\n",
       " ('id', None, None, None, None, None, None),\n",
       " ('name', None, None, None, None, None, None),\n",
       " ('city', None, None, None, None, None, None),\n",
       " ('country', None, None, None, None, None, None),\n",
       " ('code', None, None, None, None, None, None),\n",
       " ('icao', None, None, None, None, None, None),\n",
       " ('latitude', None, None, None, None, None, None),\n",
       " ('longitude', None, None, None, None, None, None),\n",
       " ('altitude', None, None, None, None, None, None),\n",
       " ('offset', None, None, None, None, None, None),\n",
       " ('dst', None, None, None, None, None, None),\n",
       " ('timezone', None, None, None, None, None, None))"
      ]
     },
     "execution_count": 15,
     "metadata": {},
     "output_type": "execute_result"
    }
   ],
   "source": [
    "cursor.description"
   ]
  },
  {
   "cell_type": "markdown",
   "metadata": {
    "slideshow": {
     "slide_type": "slide"
    }
   },
   "source": [
    "#### Or use `Pragma`\n",
    "`Pragma` tool [link here](https://www.sqlite.org/pragma.html#pragma_table_info)\n",
    "\n",
    "**output**<br>\n",
    "`(column id, column name, data type, whether or not the column can be NULL, and the default value for the column)`"
   ]
  },
  {
   "cell_type": "code",
   "execution_count": 16,
   "metadata": {
    "slideshow": {
     "slide_type": "slide"
    }
   },
   "outputs": [
    {
     "name": "stdout",
     "output_type": "stream",
     "text": [
      "(0, 'index', 'INTEGER', 0, None, 0)\n",
      "(1, 'id', 'TEXT', 0, None, 0)\n",
      "(2, 'name', 'TEXT', 0, None, 0)\n",
      "(3, 'city', 'TEXT', 0, None, 0)\n",
      "(4, 'country', 'TEXT', 0, None, 0)\n",
      "(5, 'code', 'TEXT', 0, None, 0)\n",
      "(6, 'icao', 'TEXT', 0, None, 0)\n",
      "(7, 'latitude', 'TEXT', 0, None, 0)\n",
      "(8, 'longitude', 'TEXT', 0, None, 0)\n",
      "(9, 'altitude', 'TEXT', 0, None, 0)\n",
      "(10, 'offset', 'TEXT', 0, None, 0)\n",
      "(11, 'dst', 'TEXT', 0, None, 0)\n",
      "(12, 'timezone', 'TEXT', 0, None, 0)\n"
     ]
    }
   ],
   "source": [
    "cursor.execute(\"PRAGMA table_info(airports)\")\n",
    "info = cursor.fetchall()\n",
    "print(*info, sep = \"\\n\") "
   ]
  },
  {
   "cell_type": "markdown",
   "metadata": {
    "slideshow": {
     "slide_type": "slide"
    }
   },
   "source": [
    "## Goal 6: Transfering from sqlite to pandas"
   ]
  },
  {
   "cell_type": "code",
   "execution_count": 17,
   "metadata": {
    "slideshow": {
     "slide_type": "fragment"
    }
   },
   "outputs": [
    {
     "data": {
      "text/html": [
       "<div>\n",
       "<style scoped>\n",
       "    .dataframe tbody tr th:only-of-type {\n",
       "        vertical-align: middle;\n",
       "    }\n",
       "\n",
       "    .dataframe tbody tr th {\n",
       "        vertical-align: top;\n",
       "    }\n",
       "\n",
       "    .dataframe thead th {\n",
       "        text-align: right;\n",
       "    }\n",
       "</style>\n",
       "<table border=\"1\" class=\"dataframe\">\n",
       "  <thead>\n",
       "    <tr style=\"text-align: right;\">\n",
       "      <th></th>\n",
       "      <th>index</th>\n",
       "      <th>id</th>\n",
       "      <th>name</th>\n",
       "      <th>city</th>\n",
       "      <th>country</th>\n",
       "      <th>code</th>\n",
       "      <th>icao</th>\n",
       "      <th>latitude</th>\n",
       "      <th>longitude</th>\n",
       "      <th>altitude</th>\n",
       "      <th>offset</th>\n",
       "      <th>dst</th>\n",
       "      <th>timezone</th>\n",
       "    </tr>\n",
       "  </thead>\n",
       "  <tbody>\n",
       "    <tr>\n",
       "      <th>0</th>\n",
       "      <td>0</td>\n",
       "      <td>1</td>\n",
       "      <td>Goroka</td>\n",
       "      <td>Goroka</td>\n",
       "      <td>Papua New Guinea</td>\n",
       "      <td>GKA</td>\n",
       "      <td>AYGA</td>\n",
       "      <td>-6.081689</td>\n",
       "      <td>145.391881</td>\n",
       "      <td>5282</td>\n",
       "      <td>10</td>\n",
       "      <td>U</td>\n",
       "      <td>Pacific/Port_Moresby</td>\n",
       "    </tr>\n",
       "    <tr>\n",
       "      <th>1</th>\n",
       "      <td>1</td>\n",
       "      <td>2</td>\n",
       "      <td>Madang</td>\n",
       "      <td>Madang</td>\n",
       "      <td>Papua New Guinea</td>\n",
       "      <td>MAG</td>\n",
       "      <td>AYMD</td>\n",
       "      <td>-5.207083</td>\n",
       "      <td>145.7887</td>\n",
       "      <td>20</td>\n",
       "      <td>10</td>\n",
       "      <td>U</td>\n",
       "      <td>Pacific/Port_Moresby</td>\n",
       "    </tr>\n",
       "    <tr>\n",
       "      <th>2</th>\n",
       "      <td>2</td>\n",
       "      <td>3</td>\n",
       "      <td>Mount Hagen</td>\n",
       "      <td>Mount Hagen</td>\n",
       "      <td>Papua New Guinea</td>\n",
       "      <td>HGU</td>\n",
       "      <td>AYMH</td>\n",
       "      <td>-5.826789</td>\n",
       "      <td>144.295861</td>\n",
       "      <td>5388</td>\n",
       "      <td>10</td>\n",
       "      <td>U</td>\n",
       "      <td>Pacific/Port_Moresby</td>\n",
       "    </tr>\n",
       "    <tr>\n",
       "      <th>3</th>\n",
       "      <td>3</td>\n",
       "      <td>4</td>\n",
       "      <td>Nadzab</td>\n",
       "      <td>Nadzab</td>\n",
       "      <td>Papua New Guinea</td>\n",
       "      <td>LAE</td>\n",
       "      <td>AYNZ</td>\n",
       "      <td>-6.569828</td>\n",
       "      <td>146.726242</td>\n",
       "      <td>239</td>\n",
       "      <td>10</td>\n",
       "      <td>U</td>\n",
       "      <td>Pacific/Port_Moresby</td>\n",
       "    </tr>\n",
       "    <tr>\n",
       "      <th>4</th>\n",
       "      <td>4</td>\n",
       "      <td>5</td>\n",
       "      <td>Port Moresby Jacksons Intl</td>\n",
       "      <td>Port Moresby</td>\n",
       "      <td>Papua New Guinea</td>\n",
       "      <td>POM</td>\n",
       "      <td>AYPY</td>\n",
       "      <td>-9.443383</td>\n",
       "      <td>147.22005</td>\n",
       "      <td>146</td>\n",
       "      <td>10</td>\n",
       "      <td>U</td>\n",
       "      <td>Pacific/Port_Moresby</td>\n",
       "    </tr>\n",
       "    <tr>\n",
       "      <th>5</th>\n",
       "      <td>5</td>\n",
       "      <td>6</td>\n",
       "      <td>Wewak Intl</td>\n",
       "      <td>Wewak</td>\n",
       "      <td>Papua New Guinea</td>\n",
       "      <td>WWK</td>\n",
       "      <td>AYWK</td>\n",
       "      <td>-3.583828</td>\n",
       "      <td>143.669186</td>\n",
       "      <td>19</td>\n",
       "      <td>10</td>\n",
       "      <td>U</td>\n",
       "      <td>Pacific/Port_Moresby</td>\n",
       "    </tr>\n",
       "    <tr>\n",
       "      <th>6</th>\n",
       "      <td>6</td>\n",
       "      <td>7</td>\n",
       "      <td>Narsarsuaq</td>\n",
       "      <td>Narssarssuaq</td>\n",
       "      <td>Greenland</td>\n",
       "      <td>UAK</td>\n",
       "      <td>BGBW</td>\n",
       "      <td>61.160517</td>\n",
       "      <td>-45.425978</td>\n",
       "      <td>112</td>\n",
       "      <td>-3</td>\n",
       "      <td>E</td>\n",
       "      <td>America/Godthab</td>\n",
       "    </tr>\n",
       "    <tr>\n",
       "      <th>7</th>\n",
       "      <td>7</td>\n",
       "      <td>8</td>\n",
       "      <td>Nuuk</td>\n",
       "      <td>Godthaab</td>\n",
       "      <td>Greenland</td>\n",
       "      <td>GOH</td>\n",
       "      <td>BGGH</td>\n",
       "      <td>64.190922</td>\n",
       "      <td>-51.678064</td>\n",
       "      <td>283</td>\n",
       "      <td>-3</td>\n",
       "      <td>E</td>\n",
       "      <td>America/Godthab</td>\n",
       "    </tr>\n",
       "    <tr>\n",
       "      <th>8</th>\n",
       "      <td>8</td>\n",
       "      <td>9</td>\n",
       "      <td>Sondre Stromfjord</td>\n",
       "      <td>Sondrestrom</td>\n",
       "      <td>Greenland</td>\n",
       "      <td>SFJ</td>\n",
       "      <td>BGSF</td>\n",
       "      <td>67.016969</td>\n",
       "      <td>-50.689325</td>\n",
       "      <td>165</td>\n",
       "      <td>-3</td>\n",
       "      <td>E</td>\n",
       "      <td>America/Godthab</td>\n",
       "    </tr>\n",
       "    <tr>\n",
       "      <th>9</th>\n",
       "      <td>9</td>\n",
       "      <td>10</td>\n",
       "      <td>Thule Air Base</td>\n",
       "      <td>Thule</td>\n",
       "      <td>Greenland</td>\n",
       "      <td>THU</td>\n",
       "      <td>BGTL</td>\n",
       "      <td>76.531203</td>\n",
       "      <td>-68.703161</td>\n",
       "      <td>251</td>\n",
       "      <td>-4</td>\n",
       "      <td>E</td>\n",
       "      <td>America/Thule</td>\n",
       "    </tr>\n",
       "    <tr>\n",
       "      <th>10</th>\n",
       "      <td>10</td>\n",
       "      <td>11</td>\n",
       "      <td>Akureyri</td>\n",
       "      <td>Akureyri</td>\n",
       "      <td>Iceland</td>\n",
       "      <td>AEY</td>\n",
       "      <td>BIAR</td>\n",
       "      <td>65.659994</td>\n",
       "      <td>-18.072703</td>\n",
       "      <td>6</td>\n",
       "      <td>0</td>\n",
       "      <td>N</td>\n",
       "      <td>Atlantic/Reykjavik</td>\n",
       "    </tr>\n",
       "    <tr>\n",
       "      <th>11</th>\n",
       "      <td>11</td>\n",
       "      <td>12</td>\n",
       "      <td>Egilsstadir</td>\n",
       "      <td>Egilsstadir</td>\n",
       "      <td>Iceland</td>\n",
       "      <td>EGS</td>\n",
       "      <td>BIEG</td>\n",
       "      <td>65.283333</td>\n",
       "      <td>-14.401389</td>\n",
       "      <td>76</td>\n",
       "      <td>0</td>\n",
       "      <td>N</td>\n",
       "      <td>Atlantic/Reykjavik</td>\n",
       "    </tr>\n",
       "    <tr>\n",
       "      <th>12</th>\n",
       "      <td>12</td>\n",
       "      <td>13</td>\n",
       "      <td>Hornafjordur</td>\n",
       "      <td>Hofn</td>\n",
       "      <td>Iceland</td>\n",
       "      <td>HFN</td>\n",
       "      <td>BIHN</td>\n",
       "      <td>64.295556</td>\n",
       "      <td>-15.227222</td>\n",
       "      <td>24</td>\n",
       "      <td>0</td>\n",
       "      <td>N</td>\n",
       "      <td>Atlantic/Reykjavik</td>\n",
       "    </tr>\n",
       "    <tr>\n",
       "      <th>13</th>\n",
       "      <td>13</td>\n",
       "      <td>14</td>\n",
       "      <td>Husavik</td>\n",
       "      <td>Husavik</td>\n",
       "      <td>Iceland</td>\n",
       "      <td>HZK</td>\n",
       "      <td>BIHU</td>\n",
       "      <td>65.952328</td>\n",
       "      <td>-17.425978</td>\n",
       "      <td>48</td>\n",
       "      <td>0</td>\n",
       "      <td>N</td>\n",
       "      <td>Atlantic/Reykjavik</td>\n",
       "    </tr>\n",
       "    <tr>\n",
       "      <th>14</th>\n",
       "      <td>14</td>\n",
       "      <td>15</td>\n",
       "      <td>Isafjordur</td>\n",
       "      <td>Isafjordur</td>\n",
       "      <td>Iceland</td>\n",
       "      <td>IFJ</td>\n",
       "      <td>BIIS</td>\n",
       "      <td>66.058056</td>\n",
       "      <td>-23.135278</td>\n",
       "      <td>8</td>\n",
       "      <td>0</td>\n",
       "      <td>N</td>\n",
       "      <td>Atlantic/Reykjavik</td>\n",
       "    </tr>\n",
       "    <tr>\n",
       "      <th>15</th>\n",
       "      <td>15</td>\n",
       "      <td>16</td>\n",
       "      <td>Keflavik International Airport</td>\n",
       "      <td>Keflavik</td>\n",
       "      <td>Iceland</td>\n",
       "      <td>KEF</td>\n",
       "      <td>BIKF</td>\n",
       "      <td>63.985</td>\n",
       "      <td>-22.605556</td>\n",
       "      <td>171</td>\n",
       "      <td>0</td>\n",
       "      <td>N</td>\n",
       "      <td>Atlantic/Reykjavik</td>\n",
       "    </tr>\n",
       "    <tr>\n",
       "      <th>16</th>\n",
       "      <td>16</td>\n",
       "      <td>17</td>\n",
       "      <td>Patreksfjordur</td>\n",
       "      <td>Patreksfjordur</td>\n",
       "      <td>Iceland</td>\n",
       "      <td>PFJ</td>\n",
       "      <td>BIPA</td>\n",
       "      <td>65.555833</td>\n",
       "      <td>-23.965</td>\n",
       "      <td>11</td>\n",
       "      <td>0</td>\n",
       "      <td>N</td>\n",
       "      <td>Atlantic/Reykjavik</td>\n",
       "    </tr>\n",
       "    <tr>\n",
       "      <th>17</th>\n",
       "      <td>17</td>\n",
       "      <td>18</td>\n",
       "      <td>Reykjavik</td>\n",
       "      <td>Reykjavik</td>\n",
       "      <td>Iceland</td>\n",
       "      <td>RKV</td>\n",
       "      <td>BIRK</td>\n",
       "      <td>64.13</td>\n",
       "      <td>-21.940556</td>\n",
       "      <td>48</td>\n",
       "      <td>0</td>\n",
       "      <td>N</td>\n",
       "      <td>Atlantic/Reykjavik</td>\n",
       "    </tr>\n",
       "    <tr>\n",
       "      <th>18</th>\n",
       "      <td>18</td>\n",
       "      <td>19</td>\n",
       "      <td>Siglufjordur</td>\n",
       "      <td>Siglufjordur</td>\n",
       "      <td>Iceland</td>\n",
       "      <td>SIJ</td>\n",
       "      <td>BISI</td>\n",
       "      <td>66.133333</td>\n",
       "      <td>-18.916667</td>\n",
       "      <td>10</td>\n",
       "      <td>0</td>\n",
       "      <td>N</td>\n",
       "      <td>Atlantic/Reykjavik</td>\n",
       "    </tr>\n",
       "    <tr>\n",
       "      <th>19</th>\n",
       "      <td>19</td>\n",
       "      <td>20</td>\n",
       "      <td>Vestmannaeyjar</td>\n",
       "      <td>Vestmannaeyjar</td>\n",
       "      <td>Iceland</td>\n",
       "      <td>VEY</td>\n",
       "      <td>BIVM</td>\n",
       "      <td>63.424303</td>\n",
       "      <td>-20.278875</td>\n",
       "      <td>326</td>\n",
       "      <td>0</td>\n",
       "      <td>N</td>\n",
       "      <td>Atlantic/Reykjavik</td>\n",
       "    </tr>\n",
       "    <tr>\n",
       "      <th>20</th>\n",
       "      <td>20</td>\n",
       "      <td>21</td>\n",
       "      <td>Sault Ste Marie</td>\n",
       "      <td>Sault Sainte Marie</td>\n",
       "      <td>Canada</td>\n",
       "      <td>YAM</td>\n",
       "      <td>CYAM</td>\n",
       "      <td>46.485001</td>\n",
       "      <td>-84.509445</td>\n",
       "      <td>630</td>\n",
       "      <td>-5</td>\n",
       "      <td>A</td>\n",
       "      <td>America/Toronto</td>\n",
       "    </tr>\n",
       "    <tr>\n",
       "      <th>21</th>\n",
       "      <td>21</td>\n",
       "      <td>22</td>\n",
       "      <td>Winnipeg St Andrews</td>\n",
       "      <td>Winnipeg</td>\n",
       "      <td>Canada</td>\n",
       "      <td>YAV</td>\n",
       "      <td>CYAV</td>\n",
       "      <td>50.056389</td>\n",
       "      <td>-97.0325</td>\n",
       "      <td>760</td>\n",
       "      <td>-6</td>\n",
       "      <td>A</td>\n",
       "      <td>America/Winnipeg</td>\n",
       "    </tr>\n",
       "    <tr>\n",
       "      <th>22</th>\n",
       "      <td>22</td>\n",
       "      <td>23</td>\n",
       "      <td>Shearwater</td>\n",
       "      <td>Halifax</td>\n",
       "      <td>Canada</td>\n",
       "      <td>YAW</td>\n",
       "      <td>CYAW</td>\n",
       "      <td>44.639721</td>\n",
       "      <td>-63.499444</td>\n",
       "      <td>167</td>\n",
       "      <td>-4</td>\n",
       "      <td>A</td>\n",
       "      <td>America/Halifax</td>\n",
       "    </tr>\n",
       "    <tr>\n",
       "      <th>23</th>\n",
       "      <td>23</td>\n",
       "      <td>24</td>\n",
       "      <td>St Anthony</td>\n",
       "      <td>St. Anthony</td>\n",
       "      <td>Canada</td>\n",
       "      <td>YAY</td>\n",
       "      <td>CYAY</td>\n",
       "      <td>51.391944</td>\n",
       "      <td>-56.083056</td>\n",
       "      <td>108</td>\n",
       "      <td>-3.5</td>\n",
       "      <td>A</td>\n",
       "      <td>America/St_Johns</td>\n",
       "    </tr>\n",
       "    <tr>\n",
       "      <th>24</th>\n",
       "      <td>24</td>\n",
       "      <td>25</td>\n",
       "      <td>Tofino</td>\n",
       "      <td>Tofino</td>\n",
       "      <td>Canada</td>\n",
       "      <td>YAZ</td>\n",
       "      <td>CYAZ</td>\n",
       "      <td>49.082222</td>\n",
       "      <td>-125.7725</td>\n",
       "      <td>80</td>\n",
       "      <td>-8</td>\n",
       "      <td>A</td>\n",
       "      <td>America/Vancouver</td>\n",
       "    </tr>\n",
       "    <tr>\n",
       "      <th>25</th>\n",
       "      <td>25</td>\n",
       "      <td>26</td>\n",
       "      <td>Kugaaruk</td>\n",
       "      <td>Pelly Bay</td>\n",
       "      <td>Canada</td>\n",
       "      <td>YBB</td>\n",
       "      <td>CYBB</td>\n",
       "      <td>68.534444</td>\n",
       "      <td>-89.808056</td>\n",
       "      <td>56</td>\n",
       "      <td>-7</td>\n",
       "      <td>A</td>\n",
       "      <td>America/Edmonton</td>\n",
       "    </tr>\n",
       "    <tr>\n",
       "      <th>26</th>\n",
       "      <td>26</td>\n",
       "      <td>27</td>\n",
       "      <td>Baie Comeau</td>\n",
       "      <td>Baie Comeau</td>\n",
       "      <td>Canada</td>\n",
       "      <td>YBC</td>\n",
       "      <td>CYBC</td>\n",
       "      <td>49.1325</td>\n",
       "      <td>-68.204444</td>\n",
       "      <td>71</td>\n",
       "      <td>-5</td>\n",
       "      <td>A</td>\n",
       "      <td>America/Toronto</td>\n",
       "    </tr>\n",
       "    <tr>\n",
       "      <th>27</th>\n",
       "      <td>27</td>\n",
       "      <td>28</td>\n",
       "      <td>Bagotville</td>\n",
       "      <td>Bagotville</td>\n",
       "      <td>Canada</td>\n",
       "      <td>YBG</td>\n",
       "      <td>CYBG</td>\n",
       "      <td>48.330555</td>\n",
       "      <td>-70.996391</td>\n",
       "      <td>522</td>\n",
       "      <td>-5</td>\n",
       "      <td>A</td>\n",
       "      <td>America/Toronto</td>\n",
       "    </tr>\n",
       "    <tr>\n",
       "      <th>28</th>\n",
       "      <td>28</td>\n",
       "      <td>29</td>\n",
       "      <td>Baker Lake</td>\n",
       "      <td>Baker Lake</td>\n",
       "      <td>Canada</td>\n",
       "      <td>YBK</td>\n",
       "      <td>CYBK</td>\n",
       "      <td>64.298889</td>\n",
       "      <td>-96.077778</td>\n",
       "      <td>59</td>\n",
       "      <td>-6</td>\n",
       "      <td>A</td>\n",
       "      <td>America/Winnipeg</td>\n",
       "    </tr>\n",
       "    <tr>\n",
       "      <th>29</th>\n",
       "      <td>29</td>\n",
       "      <td>30</td>\n",
       "      <td>Campbell River</td>\n",
       "      <td>Campbell River</td>\n",
       "      <td>Canada</td>\n",
       "      <td>YBL</td>\n",
       "      <td>CYBL</td>\n",
       "      <td>49.950832</td>\n",
       "      <td>-125.270833</td>\n",
       "      <td>346</td>\n",
       "      <td>-8</td>\n",
       "      <td>A</td>\n",
       "      <td>America/Vancouver</td>\n",
       "    </tr>\n",
       "    <tr>\n",
       "      <th>...</th>\n",
       "      <td>...</td>\n",
       "      <td>...</td>\n",
       "      <td>...</td>\n",
       "      <td>...</td>\n",
       "      <td>...</td>\n",
       "      <td>...</td>\n",
       "      <td>...</td>\n",
       "      <td>...</td>\n",
       "      <td>...</td>\n",
       "      <td>...</td>\n",
       "      <td>...</td>\n",
       "      <td>...</td>\n",
       "      <td>...</td>\n",
       "    </tr>\n",
       "    <tr>\n",
       "      <th>8077</th>\n",
       "      <td>8077</td>\n",
       "      <td>9512</td>\n",
       "      <td>Port of Seattle</td>\n",
       "      <td>Seattle</td>\n",
       "      <td>United States</td>\n",
       "      <td>None</td>\n",
       "      <td>PSEA</td>\n",
       "      <td>47.609178</td>\n",
       "      <td>-122.350605</td>\n",
       "      <td>0</td>\n",
       "      <td>-8</td>\n",
       "      <td>A</td>\n",
       "      <td>America/Los_Angeles</td>\n",
       "    </tr>\n",
       "    <tr>\n",
       "      <th>8078</th>\n",
       "      <td>8078</td>\n",
       "      <td>9513</td>\n",
       "      <td>Ferry Terminal</td>\n",
       "      <td>Whittier</td>\n",
       "      <td>United States</td>\n",
       "      <td>None</td>\n",
       "      <td>WHIT</td>\n",
       "      <td>60.776566</td>\n",
       "      <td>-148.683367</td>\n",
       "      <td>0</td>\n",
       "      <td>-9</td>\n",
       "      <td>A</td>\n",
       "      <td>America/Anchorage</td>\n",
       "    </tr>\n",
       "    <tr>\n",
       "      <th>8079</th>\n",
       "      <td>8079</td>\n",
       "      <td>9514</td>\n",
       "      <td>Ferry Terminal</td>\n",
       "      <td>Valdez</td>\n",
       "      <td>United States</td>\n",
       "      <td>None</td>\n",
       "      <td>VLDZ</td>\n",
       "      <td>61.123976</td>\n",
       "      <td>-146.365309</td>\n",
       "      <td>0</td>\n",
       "      <td>-9</td>\n",
       "      <td>A</td>\n",
       "      <td>America/Anchorage</td>\n",
       "    </tr>\n",
       "    <tr>\n",
       "      <th>8080</th>\n",
       "      <td>8080</td>\n",
       "      <td>9515</td>\n",
       "      <td>Gare Routiere</td>\n",
       "      <td>Saint-Louis</td>\n",
       "      <td>Reunion</td>\n",
       "      <td>None</td>\n",
       "      <td>STLS</td>\n",
       "      <td>-21.289604</td>\n",
       "      <td>55.407269</td>\n",
       "      <td>103</td>\n",
       "      <td>4</td>\n",
       "      <td>E</td>\n",
       "      <td>Indian/Reunion</td>\n",
       "    </tr>\n",
       "    <tr>\n",
       "      <th>8081</th>\n",
       "      <td>8081</td>\n",
       "      <td>9516</td>\n",
       "      <td>Bus Stop</td>\n",
       "      <td>La Riviere</td>\n",
       "      <td>Reunion</td>\n",
       "      <td>None</td>\n",
       "      <td>LRIV</td>\n",
       "      <td>-21.272574</td>\n",
       "      <td>55.437706</td>\n",
       "      <td>190</td>\n",
       "      <td>4</td>\n",
       "      <td>E</td>\n",
       "      <td>Indian/Reunion</td>\n",
       "    </tr>\n",
       "    <tr>\n",
       "      <th>8082</th>\n",
       "      <td>8082</td>\n",
       "      <td>9517</td>\n",
       "      <td>Bus Stop</td>\n",
       "      <td>Cilaos</td>\n",
       "      <td>Reunion</td>\n",
       "      <td>None</td>\n",
       "      <td>CILS</td>\n",
       "      <td>-21.135518</td>\n",
       "      <td>55.472087</td>\n",
       "      <td>4000</td>\n",
       "      <td>4</td>\n",
       "      <td>E</td>\n",
       "      <td>Indian/Reunion</td>\n",
       "    </tr>\n",
       "    <tr>\n",
       "      <th>8083</th>\n",
       "      <td>8083</td>\n",
       "      <td>9518</td>\n",
       "      <td>Bus Stop</td>\n",
       "      <td>Hell-Bourg</td>\n",
       "      <td>Reunion</td>\n",
       "      <td>None</td>\n",
       "      <td>HLBG</td>\n",
       "      <td>-21.06402</td>\n",
       "      <td>55.518453</td>\n",
       "      <td>3000</td>\n",
       "      <td>4</td>\n",
       "      <td>E</td>\n",
       "      <td>Indian/Reunion</td>\n",
       "    </tr>\n",
       "    <tr>\n",
       "      <th>8084</th>\n",
       "      <td>8084</td>\n",
       "      <td>9519</td>\n",
       "      <td>Bus Stop</td>\n",
       "      <td>Salazie</td>\n",
       "      <td>Reunion</td>\n",
       "      <td>None</td>\n",
       "      <td>SLZI</td>\n",
       "      <td>-21.027485</td>\n",
       "      <td>55.538955</td>\n",
       "      <td>3000</td>\n",
       "      <td>4</td>\n",
       "      <td>E</td>\n",
       "      <td>Indian/Reunion</td>\n",
       "    </tr>\n",
       "    <tr>\n",
       "      <th>8085</th>\n",
       "      <td>8085</td>\n",
       "      <td>9520</td>\n",
       "      <td>Gare</td>\n",
       "      <td>St Andre</td>\n",
       "      <td>Reunion</td>\n",
       "      <td>None</td>\n",
       "      <td>ANDR</td>\n",
       "      <td>-20.963272</td>\n",
       "      <td>55.652508</td>\n",
       "      <td>100</td>\n",
       "      <td>4</td>\n",
       "      <td>E</td>\n",
       "      <td>Indian/Reunion</td>\n",
       "    </tr>\n",
       "    <tr>\n",
       "      <th>8086</th>\n",
       "      <td>8086</td>\n",
       "      <td>9521</td>\n",
       "      <td>L'Ocean Bus Terminal</td>\n",
       "      <td>Saint Denis</td>\n",
       "      <td>Reunion</td>\n",
       "      <td>None</td>\n",
       "      <td>SDNS</td>\n",
       "      <td>-20.877683</td>\n",
       "      <td>55.457393</td>\n",
       "      <td>0</td>\n",
       "      <td>4</td>\n",
       "      <td>E</td>\n",
       "      <td>Indian/Reunion</td>\n",
       "    </tr>\n",
       "    <tr>\n",
       "      <th>8087</th>\n",
       "      <td>8087</td>\n",
       "      <td>9522</td>\n",
       "      <td>Gare Routiere</td>\n",
       "      <td>Saint Pierre</td>\n",
       "      <td>Reunion</td>\n",
       "      <td>None</td>\n",
       "      <td>STPR</td>\n",
       "      <td>-21.33424</td>\n",
       "      <td>55.471331</td>\n",
       "      <td>0</td>\n",
       "      <td>4</td>\n",
       "      <td>E</td>\n",
       "      <td>Indian/Reunion</td>\n",
       "    </tr>\n",
       "    <tr>\n",
       "      <th>8088</th>\n",
       "      <td>8088</td>\n",
       "      <td>9523</td>\n",
       "      <td>Baie Ste Anne</td>\n",
       "      <td>Praslin</td>\n",
       "      <td>Seychelles</td>\n",
       "      <td>None</td>\n",
       "      <td>PLIN</td>\n",
       "      <td>-4.347119</td>\n",
       "      <td>55.765688</td>\n",
       "      <td>0</td>\n",
       "      <td>4</td>\n",
       "      <td>N</td>\n",
       "      <td>Indian/Mahe</td>\n",
       "    </tr>\n",
       "    <tr>\n",
       "      <th>8089</th>\n",
       "      <td>8089</td>\n",
       "      <td>9524</td>\n",
       "      <td>La Passe</td>\n",
       "      <td>La Digue</td>\n",
       "      <td>Seychelles</td>\n",
       "      <td>None</td>\n",
       "      <td>LADG</td>\n",
       "      <td>-4.347969</td>\n",
       "      <td>55.829069</td>\n",
       "      <td>0</td>\n",
       "      <td>4</td>\n",
       "      <td>N</td>\n",
       "      <td>Indian/Mahe</td>\n",
       "    </tr>\n",
       "    <tr>\n",
       "      <th>8090</th>\n",
       "      <td>8090</td>\n",
       "      <td>9525</td>\n",
       "      <td>Ferry Dock</td>\n",
       "      <td>Bainbridge Island</td>\n",
       "      <td>United States</td>\n",
       "      <td>None</td>\n",
       "      <td>BAIN</td>\n",
       "      <td>47.622237</td>\n",
       "      <td>-122.509362</td>\n",
       "      <td>0</td>\n",
       "      <td>-8</td>\n",
       "      <td>A</td>\n",
       "      <td>America/Los_Angeles</td>\n",
       "    </tr>\n",
       "    <tr>\n",
       "      <th>8091</th>\n",
       "      <td>8091</td>\n",
       "      <td>9526</td>\n",
       "      <td>Bus</td>\n",
       "      <td>Phnom Penh</td>\n",
       "      <td>Cambodia</td>\n",
       "      <td>None</td>\n",
       "      <td>PNMP</td>\n",
       "      <td>11.561716</td>\n",
       "      <td>104.914276</td>\n",
       "      <td>0</td>\n",
       "      <td>7</td>\n",
       "      <td>N</td>\n",
       "      <td>Asia/Phnom_Penh</td>\n",
       "    </tr>\n",
       "    <tr>\n",
       "      <th>8092</th>\n",
       "      <td>8092</td>\n",
       "      <td>9527</td>\n",
       "      <td>Bus</td>\n",
       "      <td>Siem Reap</td>\n",
       "      <td>Cambodia</td>\n",
       "      <td>None</td>\n",
       "      <td>SMRP</td>\n",
       "      <td>13.361002</td>\n",
       "      <td>103.859543</td>\n",
       "      <td>0</td>\n",
       "      <td>7</td>\n",
       "      <td>N</td>\n",
       "      <td>Asia/Phnom_Penh</td>\n",
       "    </tr>\n",
       "    <tr>\n",
       "      <th>8093</th>\n",
       "      <td>8093</td>\n",
       "      <td>9528</td>\n",
       "      <td>Bus</td>\n",
       "      <td>Sihanoukville</td>\n",
       "      <td>Cambodia</td>\n",
       "      <td>None</td>\n",
       "      <td>SNKV</td>\n",
       "      <td>10.60722</td>\n",
       "      <td>103.524886</td>\n",
       "      <td>0</td>\n",
       "      <td>7</td>\n",
       "      <td>N</td>\n",
       "      <td>Asia/Phnom_Penh</td>\n",
       "    </tr>\n",
       "    <tr>\n",
       "      <th>8094</th>\n",
       "      <td>8094</td>\n",
       "      <td>9529</td>\n",
       "      <td>Bus</td>\n",
       "      <td>Kampot</td>\n",
       "      <td>Cambodia</td>\n",
       "      <td>None</td>\n",
       "      <td>KMPT</td>\n",
       "      <td>10.614922</td>\n",
       "      <td>104.177724</td>\n",
       "      <td>0</td>\n",
       "      <td>7</td>\n",
       "      <td>N</td>\n",
       "      <td>Asia/Phnom_Penh</td>\n",
       "    </tr>\n",
       "    <tr>\n",
       "      <th>8095</th>\n",
       "      <td>8095</td>\n",
       "      <td>9530</td>\n",
       "      <td>Bus</td>\n",
       "      <td>Kep</td>\n",
       "      <td>Cambodia</td>\n",
       "      <td>None</td>\n",
       "      <td>KEPC</td>\n",
       "      <td>10.480174</td>\n",
       "      <td>104.294228</td>\n",
       "      <td>0</td>\n",
       "      <td>7</td>\n",
       "      <td>N</td>\n",
       "      <td>Asia/Phnom_Penh</td>\n",
       "    </tr>\n",
       "    <tr>\n",
       "      <th>8096</th>\n",
       "      <td>8096</td>\n",
       "      <td>9531</td>\n",
       "      <td>Main Station</td>\n",
       "      <td>Taipei</td>\n",
       "      <td>Taiwan</td>\n",
       "      <td>None</td>\n",
       "      <td>TPEI</td>\n",
       "      <td>25.046176</td>\n",
       "      <td>121.517532</td>\n",
       "      <td>0</td>\n",
       "      <td>8</td>\n",
       "      <td>N</td>\n",
       "      <td>Asia/Taipei</td>\n",
       "    </tr>\n",
       "    <tr>\n",
       "      <th>8097</th>\n",
       "      <td>8097</td>\n",
       "      <td>9532</td>\n",
       "      <td>Prominent Hill</td>\n",
       "      <td>Prominent Hill</td>\n",
       "      <td>Australia</td>\n",
       "      <td>PXH</td>\n",
       "      <td>YPMH</td>\n",
       "      <td>-29.716667</td>\n",
       "      <td>135.521667</td>\n",
       "      <td>734</td>\n",
       "      <td>9.5</td>\n",
       "      <td>O</td>\n",
       "      <td>Australia/Adelaide</td>\n",
       "    </tr>\n",
       "    <tr>\n",
       "      <th>8098</th>\n",
       "      <td>8098</td>\n",
       "      <td>9533</td>\n",
       "      <td>Chatsworth Station</td>\n",
       "      <td>Chatsworth</td>\n",
       "      <td>United States</td>\n",
       "      <td>CWT</td>\n",
       "      <td>\\N</td>\n",
       "      <td>34.256944</td>\n",
       "      <td>-118.598889</td>\n",
       "      <td>978</td>\n",
       "      <td>-8</td>\n",
       "      <td>A</td>\n",
       "      <td>America/Los_Angeles</td>\n",
       "    </tr>\n",
       "    <tr>\n",
       "      <th>8099</th>\n",
       "      <td>8099</td>\n",
       "      <td>9534</td>\n",
       "      <td>Algerciras Port</td>\n",
       "      <td>Algerciras</td>\n",
       "      <td>Spain</td>\n",
       "      <td>None</td>\n",
       "      <td>\\N</td>\n",
       "      <td>36.136</td>\n",
       "      <td>-5.435</td>\n",
       "      <td>0</td>\n",
       "      <td>1</td>\n",
       "      <td>E</td>\n",
       "      <td>Europe/Madrid</td>\n",
       "    </tr>\n",
       "    <tr>\n",
       "      <th>8100</th>\n",
       "      <td>8100</td>\n",
       "      <td>9535</td>\n",
       "      <td>Ganges Water Aerodrome</td>\n",
       "      <td>Ganges</td>\n",
       "      <td>Canada</td>\n",
       "      <td>YGG</td>\n",
       "      <td>\\N</td>\n",
       "      <td>48.85</td>\n",
       "      <td>-123.5</td>\n",
       "      <td>0</td>\n",
       "      <td>-8</td>\n",
       "      <td>A</td>\n",
       "      <td>America/Vancouver</td>\n",
       "    </tr>\n",
       "    <tr>\n",
       "      <th>8101</th>\n",
       "      <td>8101</td>\n",
       "      <td>9536</td>\n",
       "      <td>Pender Harbour Water Aerodrome</td>\n",
       "      <td>Pender Harbour</td>\n",
       "      <td>Canada</td>\n",
       "      <td>YPT</td>\n",
       "      <td>\\N</td>\n",
       "      <td>49.616667</td>\n",
       "      <td>-124.016667</td>\n",
       "      <td>0</td>\n",
       "      <td>-8</td>\n",
       "      <td>A</td>\n",
       "      <td>America/Vancouver</td>\n",
       "    </tr>\n",
       "    <tr>\n",
       "      <th>8102</th>\n",
       "      <td>8102</td>\n",
       "      <td>9537</td>\n",
       "      <td>Mansons Landing Water Aerodrome</td>\n",
       "      <td>Mansons Landing</td>\n",
       "      <td>Canada</td>\n",
       "      <td>YMU</td>\n",
       "      <td>\\N</td>\n",
       "      <td>50.066667</td>\n",
       "      <td>-124.983333</td>\n",
       "      <td>0</td>\n",
       "      <td>-8</td>\n",
       "      <td>A</td>\n",
       "      <td>America/Vancouver</td>\n",
       "    </tr>\n",
       "    <tr>\n",
       "      <th>8103</th>\n",
       "      <td>8103</td>\n",
       "      <td>9538</td>\n",
       "      <td>Port McNeill Airport</td>\n",
       "      <td>Port McNeill</td>\n",
       "      <td>Canada</td>\n",
       "      <td>YMP</td>\n",
       "      <td>\\N</td>\n",
       "      <td>50.575556</td>\n",
       "      <td>-127.028611</td>\n",
       "      <td>225</td>\n",
       "      <td>-8</td>\n",
       "      <td>A</td>\n",
       "      <td>America/Vancouver</td>\n",
       "    </tr>\n",
       "    <tr>\n",
       "      <th>8104</th>\n",
       "      <td>8104</td>\n",
       "      <td>9539</td>\n",
       "      <td>Sullivan Bay Water Aerodrome</td>\n",
       "      <td>Sullivan Bay</td>\n",
       "      <td>Canada</td>\n",
       "      <td>YTG</td>\n",
       "      <td>\\N</td>\n",
       "      <td>50.883333</td>\n",
       "      <td>-126.833333</td>\n",
       "      <td>0</td>\n",
       "      <td>-8</td>\n",
       "      <td>A</td>\n",
       "      <td>America/Vancouver</td>\n",
       "    </tr>\n",
       "    <tr>\n",
       "      <th>8105</th>\n",
       "      <td>8105</td>\n",
       "      <td>9540</td>\n",
       "      <td>Deer Harbor Seaplane</td>\n",
       "      <td>Deer Harbor</td>\n",
       "      <td>United States</td>\n",
       "      <td>DHB</td>\n",
       "      <td>\\N</td>\n",
       "      <td>48.618397</td>\n",
       "      <td>-123.00596</td>\n",
       "      <td>0</td>\n",
       "      <td>-8</td>\n",
       "      <td>A</td>\n",
       "      <td>America/Los_Angeles</td>\n",
       "    </tr>\n",
       "    <tr>\n",
       "      <th>8106</th>\n",
       "      <td>8106</td>\n",
       "      <td>9541</td>\n",
       "      <td>San Diego Old Town Transit Center</td>\n",
       "      <td>San Diego</td>\n",
       "      <td>United States</td>\n",
       "      <td>OLT</td>\n",
       "      <td>\\N</td>\n",
       "      <td>32.7552</td>\n",
       "      <td>-117.1995</td>\n",
       "      <td>0</td>\n",
       "      <td>-8</td>\n",
       "      <td>A</td>\n",
       "      <td>America/Los_Angeles</td>\n",
       "    </tr>\n",
       "  </tbody>\n",
       "</table>\n",
       "<p>8107 rows × 13 columns</p>\n",
       "</div>"
      ],
      "text/plain": [
       "      index    id                               name                city  \\\n",
       "0         0     1                             Goroka              Goroka   \n",
       "1         1     2                             Madang              Madang   \n",
       "2         2     3                        Mount Hagen         Mount Hagen   \n",
       "3         3     4                             Nadzab              Nadzab   \n",
       "4         4     5         Port Moresby Jacksons Intl        Port Moresby   \n",
       "5         5     6                         Wewak Intl               Wewak   \n",
       "6         6     7                         Narsarsuaq        Narssarssuaq   \n",
       "7         7     8                               Nuuk            Godthaab   \n",
       "8         8     9                  Sondre Stromfjord         Sondrestrom   \n",
       "9         9    10                     Thule Air Base               Thule   \n",
       "10       10    11                           Akureyri            Akureyri   \n",
       "11       11    12                        Egilsstadir         Egilsstadir   \n",
       "12       12    13                       Hornafjordur                Hofn   \n",
       "13       13    14                            Husavik             Husavik   \n",
       "14       14    15                         Isafjordur          Isafjordur   \n",
       "15       15    16     Keflavik International Airport            Keflavik   \n",
       "16       16    17                     Patreksfjordur      Patreksfjordur   \n",
       "17       17    18                          Reykjavik           Reykjavik   \n",
       "18       18    19                       Siglufjordur        Siglufjordur   \n",
       "19       19    20                     Vestmannaeyjar      Vestmannaeyjar   \n",
       "20       20    21                    Sault Ste Marie  Sault Sainte Marie   \n",
       "21       21    22                Winnipeg St Andrews            Winnipeg   \n",
       "22       22    23                         Shearwater             Halifax   \n",
       "23       23    24                         St Anthony         St. Anthony   \n",
       "24       24    25                             Tofino              Tofino   \n",
       "25       25    26                           Kugaaruk           Pelly Bay   \n",
       "26       26    27                        Baie Comeau         Baie Comeau   \n",
       "27       27    28                         Bagotville          Bagotville   \n",
       "28       28    29                         Baker Lake          Baker Lake   \n",
       "29       29    30                     Campbell River      Campbell River   \n",
       "...     ...   ...                                ...                 ...   \n",
       "8077   8077  9512                    Port of Seattle             Seattle   \n",
       "8078   8078  9513                     Ferry Terminal            Whittier   \n",
       "8079   8079  9514                     Ferry Terminal              Valdez   \n",
       "8080   8080  9515                      Gare Routiere         Saint-Louis   \n",
       "8081   8081  9516                           Bus Stop          La Riviere   \n",
       "8082   8082  9517                           Bus Stop              Cilaos   \n",
       "8083   8083  9518                           Bus Stop          Hell-Bourg   \n",
       "8084   8084  9519                           Bus Stop             Salazie   \n",
       "8085   8085  9520                               Gare            St Andre   \n",
       "8086   8086  9521               L'Ocean Bus Terminal         Saint Denis   \n",
       "8087   8087  9522                      Gare Routiere        Saint Pierre   \n",
       "8088   8088  9523                      Baie Ste Anne             Praslin   \n",
       "8089   8089  9524                           La Passe            La Digue   \n",
       "8090   8090  9525                         Ferry Dock   Bainbridge Island   \n",
       "8091   8091  9526                                Bus          Phnom Penh   \n",
       "8092   8092  9527                                Bus           Siem Reap   \n",
       "8093   8093  9528                                Bus       Sihanoukville   \n",
       "8094   8094  9529                                Bus              Kampot   \n",
       "8095   8095  9530                                Bus                 Kep   \n",
       "8096   8096  9531                       Main Station              Taipei   \n",
       "8097   8097  9532                     Prominent Hill      Prominent Hill   \n",
       "8098   8098  9533                 Chatsworth Station          Chatsworth   \n",
       "8099   8099  9534                    Algerciras Port          Algerciras   \n",
       "8100   8100  9535             Ganges Water Aerodrome              Ganges   \n",
       "8101   8101  9536     Pender Harbour Water Aerodrome      Pender Harbour   \n",
       "8102   8102  9537    Mansons Landing Water Aerodrome     Mansons Landing   \n",
       "8103   8103  9538               Port McNeill Airport        Port McNeill   \n",
       "8104   8104  9539       Sullivan Bay Water Aerodrome        Sullivan Bay   \n",
       "8105   8105  9540               Deer Harbor Seaplane         Deer Harbor   \n",
       "8106   8106  9541  San Diego Old Town Transit Center           San Diego   \n",
       "\n",
       "               country  code  icao    latitude    longitude altitude offset  \\\n",
       "0     Papua New Guinea   GKA  AYGA   -6.081689   145.391881     5282     10   \n",
       "1     Papua New Guinea   MAG  AYMD   -5.207083     145.7887       20     10   \n",
       "2     Papua New Guinea   HGU  AYMH   -5.826789   144.295861     5388     10   \n",
       "3     Papua New Guinea   LAE  AYNZ   -6.569828   146.726242      239     10   \n",
       "4     Papua New Guinea   POM  AYPY   -9.443383    147.22005      146     10   \n",
       "5     Papua New Guinea   WWK  AYWK   -3.583828   143.669186       19     10   \n",
       "6            Greenland   UAK  BGBW   61.160517   -45.425978      112     -3   \n",
       "7            Greenland   GOH  BGGH   64.190922   -51.678064      283     -3   \n",
       "8            Greenland   SFJ  BGSF   67.016969   -50.689325      165     -3   \n",
       "9            Greenland   THU  BGTL   76.531203   -68.703161      251     -4   \n",
       "10             Iceland   AEY  BIAR   65.659994   -18.072703        6      0   \n",
       "11             Iceland   EGS  BIEG   65.283333   -14.401389       76      0   \n",
       "12             Iceland   HFN  BIHN   64.295556   -15.227222       24      0   \n",
       "13             Iceland   HZK  BIHU   65.952328   -17.425978       48      0   \n",
       "14             Iceland   IFJ  BIIS   66.058056   -23.135278        8      0   \n",
       "15             Iceland   KEF  BIKF      63.985   -22.605556      171      0   \n",
       "16             Iceland   PFJ  BIPA   65.555833      -23.965       11      0   \n",
       "17             Iceland   RKV  BIRK       64.13   -21.940556       48      0   \n",
       "18             Iceland   SIJ  BISI   66.133333   -18.916667       10      0   \n",
       "19             Iceland   VEY  BIVM   63.424303   -20.278875      326      0   \n",
       "20              Canada   YAM  CYAM   46.485001   -84.509445      630     -5   \n",
       "21              Canada   YAV  CYAV   50.056389     -97.0325      760     -6   \n",
       "22              Canada   YAW  CYAW   44.639721   -63.499444      167     -4   \n",
       "23              Canada   YAY  CYAY   51.391944   -56.083056      108   -3.5   \n",
       "24              Canada   YAZ  CYAZ   49.082222    -125.7725       80     -8   \n",
       "25              Canada   YBB  CYBB   68.534444   -89.808056       56     -7   \n",
       "26              Canada   YBC  CYBC     49.1325   -68.204444       71     -5   \n",
       "27              Canada   YBG  CYBG   48.330555   -70.996391      522     -5   \n",
       "28              Canada   YBK  CYBK   64.298889   -96.077778       59     -6   \n",
       "29              Canada   YBL  CYBL   49.950832  -125.270833      346     -8   \n",
       "...                ...   ...   ...         ...          ...      ...    ...   \n",
       "8077     United States  None  PSEA   47.609178  -122.350605        0     -8   \n",
       "8078     United States  None  WHIT   60.776566  -148.683367        0     -9   \n",
       "8079     United States  None  VLDZ   61.123976  -146.365309        0     -9   \n",
       "8080           Reunion  None  STLS  -21.289604    55.407269      103      4   \n",
       "8081           Reunion  None  LRIV  -21.272574    55.437706      190      4   \n",
       "8082           Reunion  None  CILS  -21.135518    55.472087     4000      4   \n",
       "8083           Reunion  None  HLBG   -21.06402    55.518453     3000      4   \n",
       "8084           Reunion  None  SLZI  -21.027485    55.538955     3000      4   \n",
       "8085           Reunion  None  ANDR  -20.963272    55.652508      100      4   \n",
       "8086           Reunion  None  SDNS  -20.877683    55.457393        0      4   \n",
       "8087           Reunion  None  STPR   -21.33424    55.471331        0      4   \n",
       "8088        Seychelles  None  PLIN   -4.347119    55.765688        0      4   \n",
       "8089        Seychelles  None  LADG   -4.347969    55.829069        0      4   \n",
       "8090     United States  None  BAIN   47.622237  -122.509362        0     -8   \n",
       "8091          Cambodia  None  PNMP   11.561716   104.914276        0      7   \n",
       "8092          Cambodia  None  SMRP   13.361002   103.859543        0      7   \n",
       "8093          Cambodia  None  SNKV    10.60722   103.524886        0      7   \n",
       "8094          Cambodia  None  KMPT   10.614922   104.177724        0      7   \n",
       "8095          Cambodia  None  KEPC   10.480174   104.294228        0      7   \n",
       "8096            Taiwan  None  TPEI   25.046176   121.517532        0      8   \n",
       "8097         Australia   PXH  YPMH  -29.716667   135.521667      734    9.5   \n",
       "8098     United States   CWT    \\N   34.256944  -118.598889      978     -8   \n",
       "8099             Spain  None    \\N      36.136       -5.435        0      1   \n",
       "8100            Canada   YGG    \\N       48.85       -123.5        0     -8   \n",
       "8101            Canada   YPT    \\N   49.616667  -124.016667        0     -8   \n",
       "8102            Canada   YMU    \\N   50.066667  -124.983333        0     -8   \n",
       "8103            Canada   YMP    \\N   50.575556  -127.028611      225     -8   \n",
       "8104            Canada   YTG    \\N   50.883333  -126.833333        0     -8   \n",
       "8105     United States   DHB    \\N   48.618397   -123.00596        0     -8   \n",
       "8106     United States   OLT    \\N     32.7552    -117.1995        0     -8   \n",
       "\n",
       "     dst              timezone  \n",
       "0      U  Pacific/Port_Moresby  \n",
       "1      U  Pacific/Port_Moresby  \n",
       "2      U  Pacific/Port_Moresby  \n",
       "3      U  Pacific/Port_Moresby  \n",
       "4      U  Pacific/Port_Moresby  \n",
       "5      U  Pacific/Port_Moresby  \n",
       "6      E       America/Godthab  \n",
       "7      E       America/Godthab  \n",
       "8      E       America/Godthab  \n",
       "9      E         America/Thule  \n",
       "10     N    Atlantic/Reykjavik  \n",
       "11     N    Atlantic/Reykjavik  \n",
       "12     N    Atlantic/Reykjavik  \n",
       "13     N    Atlantic/Reykjavik  \n",
       "14     N    Atlantic/Reykjavik  \n",
       "15     N    Atlantic/Reykjavik  \n",
       "16     N    Atlantic/Reykjavik  \n",
       "17     N    Atlantic/Reykjavik  \n",
       "18     N    Atlantic/Reykjavik  \n",
       "19     N    Atlantic/Reykjavik  \n",
       "20     A       America/Toronto  \n",
       "21     A      America/Winnipeg  \n",
       "22     A       America/Halifax  \n",
       "23     A      America/St_Johns  \n",
       "24     A     America/Vancouver  \n",
       "25     A      America/Edmonton  \n",
       "26     A       America/Toronto  \n",
       "27     A       America/Toronto  \n",
       "28     A      America/Winnipeg  \n",
       "29     A     America/Vancouver  \n",
       "...   ..                   ...  \n",
       "8077   A   America/Los_Angeles  \n",
       "8078   A     America/Anchorage  \n",
       "8079   A     America/Anchorage  \n",
       "8080   E        Indian/Reunion  \n",
       "8081   E        Indian/Reunion  \n",
       "8082   E        Indian/Reunion  \n",
       "8083   E        Indian/Reunion  \n",
       "8084   E        Indian/Reunion  \n",
       "8085   E        Indian/Reunion  \n",
       "8086   E        Indian/Reunion  \n",
       "8087   E        Indian/Reunion  \n",
       "8088   N           Indian/Mahe  \n",
       "8089   N           Indian/Mahe  \n",
       "8090   A   America/Los_Angeles  \n",
       "8091   N       Asia/Phnom_Penh  \n",
       "8092   N       Asia/Phnom_Penh  \n",
       "8093   N       Asia/Phnom_Penh  \n",
       "8094   N       Asia/Phnom_Penh  \n",
       "8095   N       Asia/Phnom_Penh  \n",
       "8096   N           Asia/Taipei  \n",
       "8097   O    Australia/Adelaide  \n",
       "8098   A   America/Los_Angeles  \n",
       "8099   E         Europe/Madrid  \n",
       "8100   A     America/Vancouver  \n",
       "8101   A     America/Vancouver  \n",
       "8102   A     America/Vancouver  \n",
       "8103   A     America/Vancouver  \n",
       "8104   A     America/Vancouver  \n",
       "8105   A   America/Los_Angeles  \n",
       "8106   A   America/Los_Angeles  \n",
       "\n",
       "[8107 rows x 13 columns]"
      ]
     },
     "execution_count": 17,
     "metadata": {},
     "output_type": "execute_result"
    }
   ],
   "source": [
    "import pandas as pd\n",
    "df = pd.read_sql_query(query, con)\n",
    "df"
   ]
  },
  {
   "cell_type": "code",
   "execution_count": 18,
   "metadata": {},
   "outputs": [
    {
     "data": {
      "text/html": [
       "<div>\n",
       "<style scoped>\n",
       "    .dataframe tbody tr th:only-of-type {\n",
       "        vertical-align: middle;\n",
       "    }\n",
       "\n",
       "    .dataframe tbody tr th {\n",
       "        vertical-align: top;\n",
       "    }\n",
       "\n",
       "    .dataframe thead th {\n",
       "        text-align: right;\n",
       "    }\n",
       "</style>\n",
       "<table border=\"1\" class=\"dataframe\">\n",
       "  <thead>\n",
       "    <tr style=\"text-align: right;\">\n",
       "      <th></th>\n",
       "      <th>index</th>\n",
       "      <th>id</th>\n",
       "      <th>name</th>\n",
       "      <th>city</th>\n",
       "      <th>country</th>\n",
       "      <th>code</th>\n",
       "      <th>icao</th>\n",
       "      <th>latitude</th>\n",
       "      <th>longitude</th>\n",
       "      <th>altitude</th>\n",
       "      <th>offset</th>\n",
       "      <th>dst</th>\n",
       "      <th>timezone</th>\n",
       "    </tr>\n",
       "  </thead>\n",
       "  <tbody>\n",
       "    <tr>\n",
       "      <th>3</th>\n",
       "      <td>3</td>\n",
       "      <td>4</td>\n",
       "      <td>Nadzab</td>\n",
       "      <td>Nadzab</td>\n",
       "      <td>Papua New Guinea</td>\n",
       "      <td>LAE</td>\n",
       "      <td>AYNZ</td>\n",
       "      <td>-6.569828</td>\n",
       "      <td>146.726242</td>\n",
       "      <td>239</td>\n",
       "      <td>10</td>\n",
       "      <td>U</td>\n",
       "      <td>Pacific/Port_Moresby</td>\n",
       "    </tr>\n",
       "  </tbody>\n",
       "</table>\n",
       "</div>"
      ],
      "text/plain": [
       "   index id    name    city           country code  icao   latitude  \\\n",
       "3      3  4  Nadzab  Nadzab  Papua New Guinea  LAE  AYNZ  -6.569828   \n",
       "\n",
       "    longitude altitude offset dst              timezone  \n",
       "3  146.726242      239     10   U  Pacific/Port_Moresby  "
      ]
     },
     "execution_count": 18,
     "metadata": {},
     "output_type": "execute_result"
    }
   ],
   "source": [
    "df.query('name == \"Nadzab\"')"
   ]
  },
  {
   "cell_type": "markdown",
   "metadata": {
    "slideshow": {
     "slide_type": "slide"
    }
   },
   "source": [
    "**Task**: \n",
    "- Select only active airlines in the UK from the airlines table\n",
    "- Select the unique list of countries with airports"
   ]
  },
  {
   "cell_type": "code",
   "execution_count": 29,
   "metadata": {},
   "outputs": [
    {
     "data": {
      "text/html": [
       "<div>\n",
       "<style scoped>\n",
       "    .dataframe tbody tr th:only-of-type {\n",
       "        vertical-align: middle;\n",
       "    }\n",
       "\n",
       "    .dataframe tbody tr th {\n",
       "        vertical-align: top;\n",
       "    }\n",
       "\n",
       "    .dataframe thead th {\n",
       "        text-align: right;\n",
       "    }\n",
       "</style>\n",
       "<table border=\"1\" class=\"dataframe\">\n",
       "  <thead>\n",
       "    <tr style=\"text-align: right;\">\n",
       "      <th></th>\n",
       "      <th>country</th>\n",
       "    </tr>\n",
       "  </thead>\n",
       "  <tbody>\n",
       "    <tr>\n",
       "      <th>0</th>\n",
       "      <td>Papua New Guinea</td>\n",
       "    </tr>\n",
       "    <tr>\n",
       "      <th>1</th>\n",
       "      <td>Greenland</td>\n",
       "    </tr>\n",
       "    <tr>\n",
       "      <th>2</th>\n",
       "      <td>Iceland</td>\n",
       "    </tr>\n",
       "    <tr>\n",
       "      <th>3</th>\n",
       "      <td>Canada</td>\n",
       "    </tr>\n",
       "    <tr>\n",
       "      <th>4</th>\n",
       "      <td>Algeria</td>\n",
       "    </tr>\n",
       "    <tr>\n",
       "      <th>5</th>\n",
       "      <td>Benin</td>\n",
       "    </tr>\n",
       "    <tr>\n",
       "      <th>6</th>\n",
       "      <td>Burkina Faso</td>\n",
       "    </tr>\n",
       "    <tr>\n",
       "      <th>7</th>\n",
       "      <td>Ghana</td>\n",
       "    </tr>\n",
       "    <tr>\n",
       "      <th>8</th>\n",
       "      <td>Cote d'Ivoire</td>\n",
       "    </tr>\n",
       "    <tr>\n",
       "      <th>9</th>\n",
       "      <td>Nigeria</td>\n",
       "    </tr>\n",
       "    <tr>\n",
       "      <th>10</th>\n",
       "      <td>Niger</td>\n",
       "    </tr>\n",
       "    <tr>\n",
       "      <th>11</th>\n",
       "      <td>Tunisia</td>\n",
       "    </tr>\n",
       "    <tr>\n",
       "      <th>12</th>\n",
       "      <td>Togo</td>\n",
       "    </tr>\n",
       "    <tr>\n",
       "      <th>13</th>\n",
       "      <td>Belgium</td>\n",
       "    </tr>\n",
       "    <tr>\n",
       "      <th>14</th>\n",
       "      <td>Germany</td>\n",
       "    </tr>\n",
       "    <tr>\n",
       "      <th>15</th>\n",
       "      <td>United States</td>\n",
       "    </tr>\n",
       "    <tr>\n",
       "      <th>16</th>\n",
       "      <td>Estonia</td>\n",
       "    </tr>\n",
       "    <tr>\n",
       "      <th>17</th>\n",
       "      <td>Finland</td>\n",
       "    </tr>\n",
       "    <tr>\n",
       "      <th>18</th>\n",
       "      <td>United Kingdom</td>\n",
       "    </tr>\n",
       "    <tr>\n",
       "      <th>19</th>\n",
       "      <td>Guernsey</td>\n",
       "    </tr>\n",
       "    <tr>\n",
       "      <th>20</th>\n",
       "      <td>Jersey</td>\n",
       "    </tr>\n",
       "    <tr>\n",
       "      <th>21</th>\n",
       "      <td>Isle of Man</td>\n",
       "    </tr>\n",
       "    <tr>\n",
       "      <th>22</th>\n",
       "      <td>Falkland Islands</td>\n",
       "    </tr>\n",
       "    <tr>\n",
       "      <th>23</th>\n",
       "      <td>Netherlands</td>\n",
       "    </tr>\n",
       "    <tr>\n",
       "      <th>24</th>\n",
       "      <td>Ireland</td>\n",
       "    </tr>\n",
       "    <tr>\n",
       "      <th>25</th>\n",
       "      <td>Denmark</td>\n",
       "    </tr>\n",
       "    <tr>\n",
       "      <th>26</th>\n",
       "      <td>Faroe Islands</td>\n",
       "    </tr>\n",
       "    <tr>\n",
       "      <th>27</th>\n",
       "      <td>Luxembourg</td>\n",
       "    </tr>\n",
       "    <tr>\n",
       "      <th>28</th>\n",
       "      <td>Norway</td>\n",
       "    </tr>\n",
       "    <tr>\n",
       "      <th>29</th>\n",
       "      <td>Poland</td>\n",
       "    </tr>\n",
       "    <tr>\n",
       "      <th>...</th>\n",
       "      <td>...</td>\n",
       "    </tr>\n",
       "    <tr>\n",
       "      <th>210</th>\n",
       "      <td>Singapore</td>\n",
       "    </tr>\n",
       "    <tr>\n",
       "      <th>211</th>\n",
       "      <td>Christmas Island</td>\n",
       "    </tr>\n",
       "    <tr>\n",
       "      <th>212</th>\n",
       "      <td>Norfolk Island</td>\n",
       "    </tr>\n",
       "    <tr>\n",
       "      <th>213</th>\n",
       "      <td>China</td>\n",
       "    </tr>\n",
       "    <tr>\n",
       "      <th>214</th>\n",
       "      <td>Korea</td>\n",
       "    </tr>\n",
       "    <tr>\n",
       "      <th>215</th>\n",
       "      <td>Mongolia</td>\n",
       "    </tr>\n",
       "    <tr>\n",
       "      <th>216</th>\n",
       "      <td>Latvia</td>\n",
       "    </tr>\n",
       "    <tr>\n",
       "      <th>217</th>\n",
       "      <td>Lithuania</td>\n",
       "    </tr>\n",
       "    <tr>\n",
       "      <th>218</th>\n",
       "      <td>Armenia</td>\n",
       "    </tr>\n",
       "    <tr>\n",
       "      <th>219</th>\n",
       "      <td>Eritrea</td>\n",
       "    </tr>\n",
       "    <tr>\n",
       "      <th>220</th>\n",
       "      <td>Palestine</td>\n",
       "    </tr>\n",
       "    <tr>\n",
       "      <th>221</th>\n",
       "      <td>Yemen</td>\n",
       "    </tr>\n",
       "    <tr>\n",
       "      <th>222</th>\n",
       "      <td>Georgia</td>\n",
       "    </tr>\n",
       "    <tr>\n",
       "      <th>223</th>\n",
       "      <td>Bermuda</td>\n",
       "    </tr>\n",
       "    <tr>\n",
       "      <th>224</th>\n",
       "      <td>Solomon Islands</td>\n",
       "    </tr>\n",
       "    <tr>\n",
       "      <th>225</th>\n",
       "      <td>Nauru</td>\n",
       "    </tr>\n",
       "    <tr>\n",
       "      <th>226</th>\n",
       "      <td>Tuvalu</td>\n",
       "    </tr>\n",
       "    <tr>\n",
       "      <th>227</th>\n",
       "      <td>Namibia</td>\n",
       "    </tr>\n",
       "    <tr>\n",
       "      <th>228</th>\n",
       "      <td>Djibouti</td>\n",
       "    </tr>\n",
       "    <tr>\n",
       "      <th>229</th>\n",
       "      <td>Montserrat</td>\n",
       "    </tr>\n",
       "    <tr>\n",
       "      <th>230</th>\n",
       "      <td>Monaco</td>\n",
       "    </tr>\n",
       "    <tr>\n",
       "      <th>231</th>\n",
       "      <td>Johnston Atoll</td>\n",
       "    </tr>\n",
       "    <tr>\n",
       "      <th>232</th>\n",
       "      <td>Niue</td>\n",
       "    </tr>\n",
       "    <tr>\n",
       "      <th>233</th>\n",
       "      <td>Western Sahara</td>\n",
       "    </tr>\n",
       "    <tr>\n",
       "      <th>234</th>\n",
       "      <td>Cocos (Keeling) Islands</td>\n",
       "    </tr>\n",
       "    <tr>\n",
       "      <th>235</th>\n",
       "      <td>South Georgia and the Islands</td>\n",
       "    </tr>\n",
       "    <tr>\n",
       "      <th>236</th>\n",
       "      <td>Myanmar</td>\n",
       "    </tr>\n",
       "    <tr>\n",
       "      <th>237</th>\n",
       "      <td>Svalbard</td>\n",
       "    </tr>\n",
       "    <tr>\n",
       "      <th>238</th>\n",
       "      <td>North Korea</td>\n",
       "    </tr>\n",
       "    <tr>\n",
       "      <th>239</th>\n",
       "      <td>Wake Island</td>\n",
       "    </tr>\n",
       "  </tbody>\n",
       "</table>\n",
       "<p>240 rows × 1 columns</p>\n",
       "</div>"
      ],
      "text/plain": [
       "                           country\n",
       "0                 Papua New Guinea\n",
       "1                        Greenland\n",
       "2                          Iceland\n",
       "3                           Canada\n",
       "4                          Algeria\n",
       "5                            Benin\n",
       "6                     Burkina Faso\n",
       "7                            Ghana\n",
       "8                    Cote d'Ivoire\n",
       "9                          Nigeria\n",
       "10                           Niger\n",
       "11                         Tunisia\n",
       "12                            Togo\n",
       "13                         Belgium\n",
       "14                         Germany\n",
       "15                   United States\n",
       "16                         Estonia\n",
       "17                         Finland\n",
       "18                  United Kingdom\n",
       "19                        Guernsey\n",
       "20                          Jersey\n",
       "21                     Isle of Man\n",
       "22                Falkland Islands\n",
       "23                     Netherlands\n",
       "24                         Ireland\n",
       "25                         Denmark\n",
       "26                   Faroe Islands\n",
       "27                      Luxembourg\n",
       "28                          Norway\n",
       "29                          Poland\n",
       "..                             ...\n",
       "210                      Singapore\n",
       "211               Christmas Island\n",
       "212                 Norfolk Island\n",
       "213                          China\n",
       "214                          Korea\n",
       "215                       Mongolia\n",
       "216                         Latvia\n",
       "217                      Lithuania\n",
       "218                        Armenia\n",
       "219                        Eritrea\n",
       "220                      Palestine\n",
       "221                          Yemen\n",
       "222                        Georgia\n",
       "223                        Bermuda\n",
       "224                Solomon Islands\n",
       "225                          Nauru\n",
       "226                         Tuvalu\n",
       "227                        Namibia\n",
       "228                       Djibouti\n",
       "229                     Montserrat\n",
       "230                         Monaco\n",
       "231                 Johnston Atoll\n",
       "232                           Niue\n",
       "233                 Western Sahara\n",
       "234        Cocos (Keeling) Islands\n",
       "235  South Georgia and the Islands\n",
       "236                        Myanmar\n",
       "237                       Svalbard\n",
       "238                    North Korea\n",
       "239                    Wake Island\n",
       "\n",
       "[240 rows x 1 columns]"
      ]
     },
     "execution_count": 29,
     "metadata": {},
     "output_type": "execute_result"
    }
   ],
   "source": [
    "# query = \"\"\"SELECT * FROM airlines\"\"\"\n",
    "# df = pd.read_sql_query(query, con)\n",
    "# df\n",
    "\n",
    "# query = \"\"\"SELECT * FROM airlines WHERE country = 'United Kingdom'\"\"\"\n",
    "# df = pd.read_sql_query(query, con)\n",
    "# df\n",
    "\n",
    "query = \"\"\"SELECT DISTINCT country FROM airports\"\"\"\n",
    "df_2 = pd.read_sql_query(query, con)\n",
    "df_2\n"
   ]
  },
  {
   "cell_type": "code",
   "execution_count": null,
   "metadata": {
    "slideshow": {
     "slide_type": "skip"
    }
   },
   "outputs": [],
   "source": []
  },
  {
   "cell_type": "code",
   "execution_count": null,
   "metadata": {},
   "outputs": [],
   "source": []
  },
  {
   "cell_type": "markdown",
   "metadata": {
    "slideshow": {
     "slide_type": "slide"
    }
   },
   "source": [
    "### SQL Joins"
   ]
  },
  {
   "cell_type": "markdown",
   "metadata": {
    "slideshow": {
     "slide_type": "fragment"
    }
   },
   "source": [
    "SQL joins can be used to both **add** data to a table and **remove** data from a table. "
   ]
  },
  {
   "cell_type": "markdown",
   "metadata": {
    "slideshow": {
     "slide_type": "fragment"
    }
   },
   "source": [
    "![venn](img/venn.png)"
   ]
  },
  {
   "cell_type": "markdown",
   "metadata": {
    "slideshow": {
     "slide_type": "slide"
    }
   },
   "source": [
    "**Task** Write a query that will join the latitude and longitude data from the airports table to the information on the routes table"
   ]
  },
  {
   "cell_type": "code",
   "execution_count": null,
   "metadata": {},
   "outputs": [],
   "source": []
  },
  {
   "cell_type": "markdown",
   "metadata": {
    "slideshow": {
     "slide_type": "slide"
    }
   },
   "source": [
    "### Grouping statements\n",
    "\n",
    "Combines `select` and `group by` when you want aggregates by values"
   ]
  },
  {
   "cell_type": "markdown",
   "metadata": {
    "slideshow": {
     "slide_type": "fragment"
    }
   },
   "source": [
    "`select` `min(x)` ... `max()`, `sum()`, etc"
   ]
  },
  {
   "cell_type": "markdown",
   "metadata": {
    "slideshow": {
     "slide_type": "fragment"
    }
   },
   "source": [
    "`group by x`"
   ]
  },
  {
   "cell_type": "markdown",
   "metadata": {
    "slideshow": {
     "slide_type": "slide"
    }
   },
   "source": [
    "**Task**<br>\n",
    "- Which countries have the highest amount of active airports?\n",
    "- Which countries have the highest amount of inactive airports?\n",
    "- What about airports by timezones?"
   ]
  },
  {
   "cell_type": "code",
   "execution_count": null,
   "metadata": {
    "slideshow": {
     "slide_type": "skip"
    }
   },
   "outputs": [],
   "source": []
  },
  {
   "cell_type": "markdown",
   "metadata": {
    "slideshow": {
     "slide_type": "slide"
    }
   },
   "source": [
    "## Integration\n",
    "\n",
    "The [Chinook database](https://github.com/lerocha/chinook-database) is a sample database, representing a digital media store.\n",
    "\n",
    "You need to create a query that can rank tracks in term of popularity.\n",
    "\n",
    "The name of the database is `Chinook_Sqlite.sqlite`"
   ]
  },
  {
   "cell_type": "markdown",
   "metadata": {
    "slideshow": {
     "slide_type": "slide"
    }
   },
   "source": [
    "Database information:<br>\n",
    "- How many tables are in the database?\n",
    "- What's the primary key of each table?\n",
    "- What foreign keys join the tables together?\n",
    "- If you had to draw a schema of how the tables are connected, what would it look like?"
   ]
  },
  {
   "cell_type": "markdown",
   "metadata": {
    "slideshow": {
     "slide_type": "slide"
    }
   },
   "source": [
    "To answer the question:<br>\n",
    "- What are the max and min dates in the Invoice table?\n",
    "- What tables would you need to answer \"what is your most popular track?\"\n",
    "- What values from each table?"
   ]
  },
  {
   "cell_type": "code",
   "execution_count": null,
   "metadata": {
    "slideshow": {
     "slide_type": "skip"
    }
   },
   "outputs": [],
   "source": []
  },
  {
   "cell_type": "markdown",
   "metadata": {
    "slideshow": {
     "slide_type": "slide"
    }
   },
   "source": [
    "## Reflection"
   ]
  }
 ],
 "metadata": {
  "kernelspec": {
   "display_name": "Python 3",
   "language": "python",
   "name": "python3"
  },
  "language_info": {
   "codemirror_mode": {
    "name": "ipython",
    "version": 3
   },
   "file_extension": ".py",
   "mimetype": "text/x-python",
   "name": "python",
   "nbconvert_exporter": "python",
   "pygments_lexer": "ipython3",
   "version": "3.7.3"
  }
 },
 "nbformat": 4,
 "nbformat_minor": 2
}
